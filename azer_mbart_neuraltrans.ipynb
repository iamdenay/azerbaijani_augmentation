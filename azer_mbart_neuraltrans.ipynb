{
 "cells": [
  {
   "cell_type": "code",
   "execution_count": 1,
   "id": "02c4ab5a-6adc-45bf-ba31-c13897b7938b",
   "metadata": {},
   "outputs": [],
   "source": [
    "import random\n",
    "import requests\n",
    "import numpy as np\n",
    "import time\n",
    "import pandas as pd\n",
    "from tqdm import tqdm"
   ]
  },
  {
   "cell_type": "code",
   "execution_count": 2,
   "id": "cb6c1471-8461-4623-be69-0aa057d68c54",
   "metadata": {},
   "outputs": [],
   "source": [
    "import dl_translate as dlt\n",
    "mt = dlt.TranslationModel(\"mbart50\", device='cuda:0')\n",
    "# mt = dlt.TranslationModel()  # Slow when you load it for the first time"
   ]
  },
  {
   "cell_type": "code",
   "execution_count": 3,
   "id": "e1a3bedd-177b-422d-8417-5291e0c903d7",
   "metadata": {},
   "outputs": [],
   "source": [
    "NOTEBOOK_NO = 0"
   ]
  },
  {
   "cell_type": "code",
   "execution_count": 4,
   "id": "886519c5-ec8b-4044-a8cf-82de5dcd7fe9",
   "metadata": {},
   "outputs": [],
   "source": [
    "df = pd.read_pickle('/home/denay/azer-bert/translated_augmented_2kk.pkl')"
   ]
  },
  {
   "cell_type": "code",
   "execution_count": 5,
   "id": "80fa0d4b-6ab7-495a-bf25-0f1b057193a5",
   "metadata": {},
   "outputs": [
    {
     "data": {
      "text/html": [
       "<div>\n",
       "<style scoped>\n",
       "    .dataframe tbody tr th:only-of-type {\n",
       "        vertical-align: middle;\n",
       "    }\n",
       "\n",
       "    .dataframe tbody tr th {\n",
       "        vertical-align: top;\n",
       "    }\n",
       "\n",
       "    .dataframe thead th {\n",
       "        text-align: right;\n",
       "    }\n",
       "</style>\n",
       "<table border=\"1\" class=\"dataframe\">\n",
       "  <thead>\n",
       "    <tr style=\"text-align: right;\">\n",
       "      <th></th>\n",
       "      <th>category</th>\n",
       "      <th>text en</th>\n",
       "    </tr>\n",
       "  </thead>\n",
       "  <tbody>\n",
       "    <tr>\n",
       "      <th>9</th>\n",
       "      <td>CÜMHURİYYƏT - 100</td>\n",
       "      <td>practical conference dedicated to the annivers...</td>\n",
       "    </tr>\n",
       "    <tr>\n",
       "      <th>10</th>\n",
       "      <td>CÜMHURİYYƏT - 100</td>\n",
       "      <td>a scientific practical conference dedicated to...</td>\n",
       "    </tr>\n",
       "    <tr>\n",
       "      <th>11</th>\n",
       "      <td>CÜMHURİYYƏT - 100</td>\n",
       "      <td>a scientific practical conference dedicated to...</td>\n",
       "    </tr>\n",
       "    <tr>\n",
       "      <th>12</th>\n",
       "      <td>CÜMHURİYYƏT - 100</td>\n",
       "      <td>a scientific practical to the 100th anniversar...</td>\n",
       "    </tr>\n",
       "    <tr>\n",
       "      <th>13</th>\n",
       "      <td>CÜMHURİYYƏT - 100</td>\n",
       "      <td>a scientific practical conference at to the 10...</td>\n",
       "    </tr>\n",
       "    <tr>\n",
       "      <th>...</th>\n",
       "      <td>...</td>\n",
       "      <td>...</td>\n",
       "    </tr>\n",
       "    <tr>\n",
       "      <th>1987579</th>\n",
       "      <td>QAN YADDAŞI</td>\n",
       "      <td>although the armenian a page written in blood ...</td>\n",
       "    </tr>\n",
       "    <tr>\n",
       "      <th>1987580</th>\n",
       "      <td>QAN YADDAŞI</td>\n",
       "      <td>although the armenian atrocities are a page in...</td>\n",
       "    </tr>\n",
       "    <tr>\n",
       "      <th>1987581</th>\n",
       "      <td>QAN YADDAŞI</td>\n",
       "      <td>although the armenian atrocities are a page al...</td>\n",
       "    </tr>\n",
       "    <tr>\n",
       "      <th>1987582</th>\n",
       "      <td>QAN YADDAŞI</td>\n",
       "      <td>although the armenian atrocities are a page wr...</td>\n",
       "    </tr>\n",
       "    <tr>\n",
       "      <th>1987583</th>\n",
       "      <td>QAN YADDAŞI</td>\n",
       "      <td>although the armenian atrocities are a page wr...</td>\n",
       "    </tr>\n",
       "  </tbody>\n",
       "</table>\n",
       "<p>1987575 rows × 2 columns</p>\n",
       "</div>"
      ],
      "text/plain": [
       "                  category                                            text en\n",
       "9        CÜMHURİYYƏT - 100  practical conference dedicated to the annivers...\n",
       "10       CÜMHURİYYƏT - 100  a scientific practical conference dedicated to...\n",
       "11       CÜMHURİYYƏT - 100  a scientific practical conference dedicated to...\n",
       "12       CÜMHURİYYƏT - 100  a scientific practical to the 100th anniversar...\n",
       "13       CÜMHURİYYƏT - 100  a scientific practical conference at to the 10...\n",
       "...                    ...                                                ...\n",
       "1987579        QAN YADDAŞI  although the armenian a page written in blood ...\n",
       "1987580        QAN YADDAŞI  although the armenian atrocities are a page in...\n",
       "1987581        QAN YADDAŞI  although the armenian atrocities are a page al...\n",
       "1987582        QAN YADDAŞI  although the armenian atrocities are a page wr...\n",
       "1987583        QAN YADDAŞI  although the armenian atrocities are a page wr...\n",
       "\n",
       "[1987575 rows x 2 columns]"
      ]
     },
     "execution_count": 5,
     "metadata": {},
     "output_type": "execute_result"
    }
   ],
   "source": [
    "df"
   ]
  },
  {
   "cell_type": "code",
   "execution_count": 6,
   "id": "4f23c400-5bd8-479f-b898-df79dc3e9562",
   "metadata": {},
   "outputs": [],
   "source": [
    "df_split = np.array_split(df, 2)"
   ]
  },
  {
   "cell_type": "code",
   "execution_count": 7,
   "id": "9a130c94-a9ef-4651-8ced-452eb6967fdb",
   "metadata": {},
   "outputs": [],
   "source": [
    "df_split1 = np.array_split(df_split[0], 4)"
   ]
  },
  {
   "cell_type": "code",
   "execution_count": 8,
   "id": "60daf19f-7f50-452b-84db-5cd6cf9564ac",
   "metadata": {},
   "outputs": [],
   "source": [
    "def retranslate(row):\n",
    "    res = mt.translate(row, source=\"English\", target=\"Azerbaijani\")\n",
    "    return res"
   ]
  },
  {
   "cell_type": "code",
   "execution_count": null,
   "id": "2f02ef86-9afc-453a-aa37-951cafc7f9f9",
   "metadata": {
    "tags": []
   },
   "outputs": [
    {
     "name": "stderr",
     "output_type": "stream",
     "text": [
      "  8%|▊         | 18833/248447 [5:53:59<77:56:45,  1.22s/it] "
     ]
    }
   ],
   "source": [
    "i = 0\n",
    "lst = []\n",
    "cols = ['category', 'text_en', 'text_az']\n",
    "for category, text_en in tqdm(zip(df_split1[NOTEBOOK_NO]['category'], df_split1[NOTEBOOK_NO]['text en']), total=len(df_split1[NOTEBOOK_NO])):\n",
    "    text_az = retranslate(text_en)\n",
    "    lst.append([category, text_en, text_az])\n",
    "    if i % 1000 == 0 and i != 0:\n",
    "        df1 = pd.DataFrame(lst, columns=cols)\n",
    "        df1.to_pickle('/home/greamdesu/GF/azer_translated_pkl/df_neaural_'  + str(NOTEBOOK_NO) + '_' + str(i)+'.pkl')\n",
    "    i=i+1\n",
    "df1 = pd.DataFrame(lst, columns=cols)\n",
    "df1.to_pickle('/home/greamdesu/GF/azer_translated_pkl/df_neaural_'  + str(NOTEBOOK_NO) + '_final' +'.pkl')"
   ]
  },
  {
   "cell_type": "code",
   "execution_count": null,
   "id": "55c5f698-a823-42cf-9714-bc2826121bbc",
   "metadata": {},
   "outputs": [],
   "source": []
  }
 ],
 "metadata": {
  "kernelspec": {
   "display_name": "ML (main)",
   "language": "python",
   "name": "ml"
  },
  "language_info": {
   "codemirror_mode": {
    "name": "ipython",
    "version": 3
   },
   "file_extension": ".py",
   "mimetype": "text/x-python",
   "name": "python",
   "nbconvert_exporter": "python",
   "pygments_lexer": "ipython3",
   "version": "3.6.7"
  }
 },
 "nbformat": 4,
 "nbformat_minor": 5
}
